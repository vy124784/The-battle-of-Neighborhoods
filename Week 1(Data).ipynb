{
 "cells": [
  {
   "cell_type": "markdown",
   "metadata": {},
   "source": [
    "<h1>2. Data Acquisition and cleaning</h1>"
   ]
  },
  {
   "cell_type": "markdown",
   "metadata": {},
   "source": [
    "<strong>2.1 Data Acquisition</strong>"
   ]
  },
  {
   "cell_type": "markdown",
   "metadata": {},
   "source": [
    "<p>The data aquired for this project is a combination of data from three sources. The first data source of the project uses a <u>London crime data</u> that shows the crime per Borough in London.\n",
    "    The dataset contains the following columns:</p>"
   ]
  },
  {
   "cell_type": "markdown",
   "metadata": {},
   "source": [
    "<ul>\n",
    "    <li><strong>Isoa_code</strong>:code for Lower Super Output Area in Greater London.</li>\n",
    "    <li><strong>borough</strong>: Common name for London Borough</li>\n",
    "    <li><strong>major_category</strong>:High level categorization of crime</li>\n",
    "    <li><strong>minor_category</strong>:Low level categorization of crime within major category</li>\n",
    "    <li><strong>Value</strong>:Monthly reported count of categorical crime in given borough.</li>\n",
    "    <li><strong>year</strong>:Year of reported counts, 2008-2016</li>\n",
    "    <li><strong>Month</strong>:Month of reported counts, 1-12</li>\n",
    "</ul>    "
   ]
  },
  {
   "cell_type": "markdown",
   "metadata": {},
   "source": [
    "<p>The second source of data is scraped from a wikipedia page that contains the <u>list of London boroughs</u>. This page contains additional information about the boroughs, the following are the columns:</p>"
   ]
  },
  {
   "cell_type": "markdown",
   "metadata": {},
   "source": [
    "<ul>\n",
    "    <li><strong>Borough</strong>: The names of the 33 London boroughs</li>\n",
    "    <li><strong>Inner</strong>: Categorizing the borough as an Inner London borough or an outer London Borough.</li>\n",
    "    <li><strong>Status</strong>: Categorizing the borough as Royal, City or other borough.</li>\n",
    "    <li><strong>Local authority</strong>: The local authority assigned to the borough.</li>\n",
    "    <li><strong>Political control</strong>: The political party that control the borough.</li>\n",
    "    <li><strong>Headquarters</strong>: Headquarters of the borough.</li>\n",
    "    <li><strong>Area(sq mi)</strong>: Area of the borough in square miles.</li>\n",
    "    <li><strong>Population(2013 est)[1]</strong>: The population in the borough recorded during the year 2013</li>\n",
    "    <li><strong>Co-ordinates</strong>: The latitude and longitude of the borough.</li>\n",
    "    <li><strong>Nr. in map</strong>: The number assigned to each borough to represent visually on map</li>\n",
    "</ul>    "
   ]
  },
  {
   "cell_type": "markdown",
   "metadata": {},
   "source": [
    "<p>The third data source is the <u>list of Neighborhoods in the Royal Borough of Kingston upon Thames</u> as found on a wikipedia page. This dataset is created from scratch using the list of neighborhood available on the site, the following are columns.</p>"
   ]
  },
  {
   "cell_type": "markdown",
   "metadata": {},
   "source": [
    "<ul>\n",
    "    <li><strong>Neighborhood</strong>: Name of the Neighborhood in the Borough.</li>\n",
    "    <li><strong>Borough</strong>: Name of the Borough.</li>\n",
    "    <li><strong>Latitude</strong>: Latitude of the Borough</li>\n",
    "    <li><strong>Longitude</strong>: Longitude of the Borough</li>\n",
    "</ul>   "
   ]
  },
  {
   "cell_type": "markdown",
   "metadata": {},
   "source": [
    "<strong>2.2 Data Cleaning</strong>"
   ]
  },
  {
   "cell_type": "markdown",
   "metadata": {},
   "source": [
    "<p>The data preparation for each of the three souces of data is done seperately. From the London crime data, the crimes during the most recent year (2016) are only selected. The major categories of crime are pivoted to grt the total crimes per borough as per the category (see fig 2.1)</p> "
   ]
  },
  {
   "cell_type": "markdown",
   "metadata": {},
   "source": [
    "<img src=/"S.JPG/">"
   ]
  },
  {
   "cell_type": "markdown",
   "metadata": {},
   "source": [
    "<p><em>Fig 2.1 London crime data after preprocessing</em></p>"
   ]
  },
  {
   "cell_type": "markdown",
   "metadata": {},
   "source": [
    "<p>The second data is scraped from a wikipedia using the <strong>Beautiful Soup</strong> library in python.Using this library we can extract the data in the tabular format as shown in the website after the web scraping, string manipulation is required to get the names of the boroughs in the correct form (see fig 2.2). This is so important because we will be merging the two datasets together using the Borough names.</p>"
   ]
  },
  {
   "cell_type": "markdown",
   "metadata": {},
   "source": [
    "<img src=/"L.JPG/">"
   ]
  },
  {
   "cell_type": "markdown",
   "metadata": {},
   "source": [
    "<p><em>Fig 2.2 List of London Boroughs</em></p>"
   ]
  },
  {
   "cell_type": "markdown",
   "metadata": {},
   "source": [
    "<p>The two datasets are merged on the Borough names to form a new dataset that combines the necessary information in one dataset (see fig-2.3). The purpose of this dataset is to visualize the crime rates in each borough and identify the borough with the least crimes recorded during the year 2016.</p>"
   ]
  },
  {
   "cell_type": "markdown",
   "metadata": {},
   "source": [
    "<img src=/"Sc.JPG/">"
   ]
  },
  {
   "cell_type": "markdown",
   "metadata": {},
   "source": [
    "<p>After visualizing the crime in each borough we can find the borough with the lowest crime rate and hence tag that borough as the safest borough. The third source of data is acquired from the list of neighborhoods in the safest borough on wikipedia. This dataset is created from scratch, the pandas dataframe is created with the names of the neighborhoods and the name of the borough with the latitude and longitude are left blank (see fig-2.4)</p>  "
   ]
  },
  {
   "cell_type": "markdown",
   "metadata": {},
   "source": [
    "<img src=/"Scr.JPG/">"
   ]
  },
  {
   "cell_type": "markdown",
   "metadata": {},
   "source": [
    "<p>The coordinates of the neighborhoods is be obtained using <strong>Google Maps API geocoding</strong> to get the final dataset (see Fig-2.5).</p> "
   ]
  },
  {
   "cell_type": "markdown",
   "metadata": {},
   "source": [
    "<img src=/ "Scre.JPG/">"
   ]
  },
  {
   "cell_type": "markdown",
   "metadata": {},
   "source": [
    "<p>The new dataset is used to generate the venues for each neighborhood using the Foursquare API</p>"
   ]
  }
 ],
 "metadata": {
  "kernelspec": {
   "display_name": "Python",
   "language": "python",
   "name": "conda-env-python-py"
  },
  "language_info": {
   "codemirror_mode": {
    "name": "ipython",
    "version": 3
   },
   "file_extension": ".py",
   "mimetype": "text/x-python",
   "name": "python",
   "nbconvert_exporter": "python",
   "pygments_lexer": "ipython3",
   "version": "3.6.10"
  }
 },
 "nbformat": 4,
 "nbformat_minor": 4
}
